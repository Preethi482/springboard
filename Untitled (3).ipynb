{
 "cells": [
  {
   "cell_type": "code",
   "execution_count": 1,
   "id": "a385f196-826e-44e9-967a-816757038d57",
   "metadata": {},
   "outputs": [
    {
     "name": "stdout",
     "output_type": "stream",
     "text": [
      "SQLite version: 2.6.0\n",
      "2. Query all facilities\n",
      "   facid             name  membercost  guestcost  initialoutlay  \\\n",
      "0      0   Tennis Court 1         5.0       25.0          10000   \n",
      "1      1   Tennis Court 2         5.0       25.0           8000   \n",
      "2      2  Badminton Court         0.0       15.5           4000   \n",
      "3      3     Table Tennis         0.0        5.0            320   \n",
      "4      4   Massage Room 1         9.9       80.0           4000   \n",
      "\n",
      "   monthlymaintenance  \n",
      "0                 200  \n",
      "1                 200  \n",
      "2                  50  \n",
      "3                  10  \n",
      "4                3000  \n"
     ]
    },
    {
     "name": "stderr",
     "output_type": "stream",
     "text": [
      "C:\\Users\\preet\\AppData\\Local\\Temp\\ipykernel_28996\\483275161.py:11: DeprecationWarning: version is deprecated and will be removed in Python 3.14\n",
      "  print(\"SQLite version:\", sqlite3.version)\n"
     ]
    }
   ],
   "source": [
    "import sqlite3\n",
    "from sqlite3 import Error\n",
    "import pandas as pd  # Optional for cleaner output\n",
    "\n",
    "# Create a database connection\n",
    "def create_connection(db_file):\n",
    "    \"\"\"Create a database connection to the SQLite database specified by db_file\"\"\"\n",
    "    conn = None\n",
    "    try:\n",
    "        conn = sqlite3.connect(db_file)\n",
    "        print(\"SQLite version:\", sqlite3.version)\n",
    "    except Error as e:\n",
    "        print(\"Error:\", e)\n",
    "    return conn\n",
    "\n",
    "# Select and display all rows from the Facilities table\n",
    "def select_all_facilities(conn):\n",
    "    query = \"SELECT * FROM Facilities\"\n",
    "    try:\n",
    "        df = pd.read_sql_query(query, conn)\n",
    "        print(df.head())  # Show first few rows\n",
    "    except Error as e:\n",
    "        print(\"Query failed:\", e)\n",
    "\n",
    "# Main function to connect and run query\n",
    "def main():\n",
    "    database = r\"C:\\Users\\preet\\Downloads\\sqlite_db_pythonsqlite.db\"\n",
    "\n",
    "    # create a connection\n",
    "    conn = create_connection(database)\n",
    "    if conn:\n",
    "        print(\"2. Query all facilities\")\n",
    "        select_all_facilities(conn)\n",
    "        conn.close()\n",
    "\n",
    "# Execute if script is run directly\n",
    "if __name__ == '__main__':\n",
    "    main()"
   ]
  },
  {
   "cell_type": "code",
   "execution_count": null,
   "id": "be1ed868-a6f0-4c4a-a0af-220b8371903b",
   "metadata": {},
   "outputs": [],
   "source": []
  }
 ],
 "metadata": {
  "kernelspec": {
   "display_name": "Python [conda env:base] *",
   "language": "python",
   "name": "conda-base-py"
  },
  "language_info": {
   "codemirror_mode": {
    "name": "ipython",
    "version": 3
   },
   "file_extension": ".py",
   "mimetype": "text/x-python",
   "name": "python",
   "nbconvert_exporter": "python",
   "pygments_lexer": "ipython3",
   "version": "3.12.7"
  }
 },
 "nbformat": 4,
 "nbformat_minor": 5
}
